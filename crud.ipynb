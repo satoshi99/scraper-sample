{
 "cells": [
  {
   "cell_type": "code",
   "execution_count": 6,
   "id": "continuous-repository",
   "metadata": {},
   "outputs": [],
   "source": [
    "# coding: utf-8\n",
    "from sqlalchemy import create_engine\n",
    "from sqlalchemy.orm import scoped_session, sessionmaker\n",
    "from sqlalchemy.ext.declarative import declarative_base\n",
    "\n",
    "import datetime\n",
    "from pathlib import Path\n",
    "import os\n",
    "\n",
    "databese_file = os.path.join(os.path.abspath(\n",
    "Path().resolve()), 'data.db')\n",
    "engine = create_engine('sqlite:///' + databese_file, convert_unicode=True , echo=True)\n",
    "db_session = scoped_session(\n",
    "                sessionmaker(\n",
    "                    autocommit = False,\n",
    "                    autoflush = False,\n",
    "                    bind = engine\n",
    "                )\n",
    "             )\n",
    "Base = declarative_base()\n",
    "Base.query = db_session.query_property()\n",
    "\n",
    "def init_db():\n",
    "    import assets.models\n",
    "    Base.metadata.create_all(bind=engine)\n"
   ]
  },
  {
   "cell_type": "code",
   "execution_count": 7,
   "id": "innocent-trader",
   "metadata": {},
   "outputs": [
    {
     "name": "stdout",
     "output_type": "stream",
     "text": [
      "2021-01-16 01:59:36,290 INFO sqlalchemy.engine.base.Engine SELECT CAST('test plain returns' AS VARCHAR(60)) AS anon_1\n",
      "2021-01-16 01:59:36,291 INFO sqlalchemy.engine.base.Engine ()\n",
      "2021-01-16 01:59:36,293 INFO sqlalchemy.engine.base.Engine SELECT CAST('test unicode returns' AS VARCHAR(60)) AS anon_1\n",
      "2021-01-16 01:59:36,295 INFO sqlalchemy.engine.base.Engine ()\n"
     ]
    }
   ],
   "source": [
    "init_db()"
   ]
  },
  {
   "cell_type": "code",
   "execution_count": null,
   "id": "plastic-cooperative",
   "metadata": {},
   "outputs": [],
   "source": []
  }
 ],
 "metadata": {
  "kernelspec": {
   "display_name": "scraper",
   "language": "python",
   "name": "scraper"
  },
  "language_info": {
   "codemirror_mode": {
    "name": "ipython",
    "version": 3
   },
   "file_extension": ".py",
   "mimetype": "text/x-python",
   "name": "python",
   "nbconvert_exporter": "python",
   "pygments_lexer": "ipython3",
   "version": "3.8.5"
  }
 },
 "nbformat": 4,
 "nbformat_minor": 5
}
